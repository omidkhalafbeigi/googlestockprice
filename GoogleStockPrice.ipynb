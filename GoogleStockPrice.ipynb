{
  "nbformat": 4,
  "nbformat_minor": 0,
  "metadata": {
    "colab": {
      "name": "LSTM.ipynb",
      "provenance": [],
      "collapsed_sections": []
    },
    "kernelspec": {
      "name": "python3",
      "display_name": "Python 3"
    }
  },
  "cells": [
    {
      "cell_type": "code",
      "metadata": {
        "id": "vKt7cmAWv8MA"
      },
      "source": [
        "import pandas as pd\n",
        "import numpy as np\n",
        "import keras\n",
        "import matplotlib.pyplot as plt\n",
        "from sklearn.preprocessing import MinMaxScaler"
      ],
      "execution_count": 88,
      "outputs": []
    },
    {
      "cell_type": "code",
      "metadata": {
        "id": "31T4f3i_kW3U"
      },
      "source": [
        "train = pd.read_csv('drive/MyDrive/GoogleStockPrice/Google_Stock_Price_Train.csv')\n",
        "test = pd.read_csv('drive/MyDrive/GoogleStockPrice/Google_Stock_Price_Test.csv')"
      ],
      "execution_count": 89,
      "outputs": []
    },
    {
      "cell_type": "code",
      "metadata": {
        "id": "4F_Dmq0zlXQ5"
      },
      "source": [
        "model = keras.Sequential()"
      ],
      "execution_count": 90,
      "outputs": []
    },
    {
      "cell_type": "code",
      "metadata": {
        "id": "1qcrULHul8_m"
      },
      "source": [
        "model.add(keras.layers.LSTM(50, return_sequences=True, input_shape=(60, 1)))\n",
        "model.add(keras.layers.Dropout(0.2))"
      ],
      "execution_count": 91,
      "outputs": []
    },
    {
      "cell_type": "code",
      "metadata": {
        "id": "k4EFwkUXmRgQ"
      },
      "source": [
        "model.add(keras.layers.LSTM(50, return_sequences=True))\n",
        "model.add(keras.layers.Dropout(0.2))"
      ],
      "execution_count": 92,
      "outputs": []
    },
    {
      "cell_type": "code",
      "metadata": {
        "id": "QVeVA1yeZajd"
      },
      "source": [
        "model.add(keras.layers.LSTM(50, return_sequences=True))\n",
        "model.add(keras.layers.Dropout(0.2))"
      ],
      "execution_count": 93,
      "outputs": []
    },
    {
      "cell_type": "code",
      "metadata": {
        "id": "Dfe8Ev6iZcKp"
      },
      "source": [
        "model.add(keras.layers.LSTM(50, return_sequences=True))\n",
        "model.add(keras.layers.Dropout(0.2))"
      ],
      "execution_count": 94,
      "outputs": []
    },
    {
      "cell_type": "code",
      "metadata": {
        "id": "_V9RgqwLWgGu"
      },
      "source": [
        "model.add(keras.layers.LSTM(50))\n",
        "model.add(keras.layers.Dropout(0.2))"
      ],
      "execution_count": 95,
      "outputs": []
    },
    {
      "cell_type": "code",
      "metadata": {
        "id": "BNbUU21cRelg"
      },
      "source": [
        "model.add(keras.layers.Dense(1))"
      ],
      "execution_count": 96,
      "outputs": []
    },
    {
      "cell_type": "code",
      "metadata": {
        "id": "Vg0g3bPHRw2l"
      },
      "source": [
        "model.compile(optimizer='adam', loss='mean_squared_error')"
      ],
      "execution_count": 97,
      "outputs": []
    },
    {
      "cell_type": "code",
      "metadata": {
        "colab": {
          "base_uri": "https://localhost:8080/",
          "height": 195
        },
        "id": "r8JeX82TmdKA",
        "outputId": "ffe777d6-7c3f-4b95-8cbc-a064ec6b1365"
      },
      "source": [
        "train.head()"
      ],
      "execution_count": 98,
      "outputs": [
        {
          "output_type": "execute_result",
          "data": {
            "text/html": [
              "<div>\n",
              "<style scoped>\n",
              "    .dataframe tbody tr th:only-of-type {\n",
              "        vertical-align: middle;\n",
              "    }\n",
              "\n",
              "    .dataframe tbody tr th {\n",
              "        vertical-align: top;\n",
              "    }\n",
              "\n",
              "    .dataframe thead th {\n",
              "        text-align: right;\n",
              "    }\n",
              "</style>\n",
              "<table border=\"1\" class=\"dataframe\">\n",
              "  <thead>\n",
              "    <tr style=\"text-align: right;\">\n",
              "      <th></th>\n",
              "      <th>Date</th>\n",
              "      <th>Open</th>\n",
              "      <th>High</th>\n",
              "      <th>Low</th>\n",
              "      <th>Close</th>\n",
              "      <th>Volume</th>\n",
              "    </tr>\n",
              "  </thead>\n",
              "  <tbody>\n",
              "    <tr>\n",
              "      <th>0</th>\n",
              "      <td>1/3/2012</td>\n",
              "      <td>325.25</td>\n",
              "      <td>332.83</td>\n",
              "      <td>324.97</td>\n",
              "      <td>663.59</td>\n",
              "      <td>7,380,500</td>\n",
              "    </tr>\n",
              "    <tr>\n",
              "      <th>1</th>\n",
              "      <td>1/4/2012</td>\n",
              "      <td>331.27</td>\n",
              "      <td>333.87</td>\n",
              "      <td>329.08</td>\n",
              "      <td>666.45</td>\n",
              "      <td>5,749,400</td>\n",
              "    </tr>\n",
              "    <tr>\n",
              "      <th>2</th>\n",
              "      <td>1/5/2012</td>\n",
              "      <td>329.83</td>\n",
              "      <td>330.75</td>\n",
              "      <td>326.89</td>\n",
              "      <td>657.21</td>\n",
              "      <td>6,590,300</td>\n",
              "    </tr>\n",
              "    <tr>\n",
              "      <th>3</th>\n",
              "      <td>1/6/2012</td>\n",
              "      <td>328.34</td>\n",
              "      <td>328.77</td>\n",
              "      <td>323.68</td>\n",
              "      <td>648.24</td>\n",
              "      <td>5,405,900</td>\n",
              "    </tr>\n",
              "    <tr>\n",
              "      <th>4</th>\n",
              "      <td>1/9/2012</td>\n",
              "      <td>322.04</td>\n",
              "      <td>322.29</td>\n",
              "      <td>309.46</td>\n",
              "      <td>620.76</td>\n",
              "      <td>11,688,800</td>\n",
              "    </tr>\n",
              "  </tbody>\n",
              "</table>\n",
              "</div>"
            ],
            "text/plain": [
              "       Date    Open    High     Low   Close      Volume\n",
              "0  1/3/2012  325.25  332.83  324.97  663.59   7,380,500\n",
              "1  1/4/2012  331.27  333.87  329.08  666.45   5,749,400\n",
              "2  1/5/2012  329.83  330.75  326.89  657.21   6,590,300\n",
              "3  1/6/2012  328.34  328.77  323.68  648.24   5,405,900\n",
              "4  1/9/2012  322.04  322.29  309.46  620.76  11,688,800"
            ]
          },
          "metadata": {
            "tags": []
          },
          "execution_count": 98
        }
      ]
    },
    {
      "cell_type": "code",
      "metadata": {
        "id": "OcGH2d3iSwT8"
      },
      "source": [
        "train = train['Open']"
      ],
      "execution_count": 99,
      "outputs": []
    },
    {
      "cell_type": "code",
      "metadata": {
        "id": "-jCNGLz1Szv-"
      },
      "source": [
        "train = np.array(train).reshape(-1, 1)"
      ],
      "execution_count": 100,
      "outputs": []
    },
    {
      "cell_type": "code",
      "metadata": {
        "id": "wxVffqF1SCIh"
      },
      "source": [
        "scaler = MinMaxScaler(feature_range=(0, 1))"
      ],
      "execution_count": 101,
      "outputs": []
    },
    {
      "cell_type": "code",
      "metadata": {
        "colab": {
          "base_uri": "https://localhost:8080/"
        },
        "id": "zeeNTvJKSdIQ",
        "outputId": "c5d14479-11ac-4042-e995-880a25f71988"
      },
      "source": [
        "scaler.fit(X=train)"
      ],
      "execution_count": 102,
      "outputs": [
        {
          "output_type": "execute_result",
          "data": {
            "text/plain": [
              "MinMaxScaler(copy=True, feature_range=(0, 1))"
            ]
          },
          "metadata": {
            "tags": []
          },
          "execution_count": 102
        }
      ]
    },
    {
      "cell_type": "code",
      "metadata": {
        "id": "2C9DIJeXTKHM"
      },
      "source": [
        "train = scaler.transform(train)"
      ],
      "execution_count": 103,
      "outputs": []
    },
    {
      "cell_type": "code",
      "metadata": {
        "id": "JlkvZBYtm9w2"
      },
      "source": [
        "X_train = []\n",
        "y_train = []"
      ],
      "execution_count": 104,
      "outputs": []
    },
    {
      "cell_type": "code",
      "metadata": {
        "id": "qK7B-iZHomcW"
      },
      "source": [
        "for i in range(60, len(train)):\n",
        "  X_train.append(train[i - 60:i])\n",
        "  y_train.append(train[i])\n",
        "# TimeStep = 60"
      ],
      "execution_count": 105,
      "outputs": []
    },
    {
      "cell_type": "code",
      "metadata": {
        "id": "_Q4YjDtppRpX"
      },
      "source": [
        "X_train = np.array(X_train)\n",
        "y_train = np.array(y_train)"
      ],
      "execution_count": 106,
      "outputs": []
    },
    {
      "cell_type": "code",
      "metadata": {
        "colab": {
          "base_uri": "https://localhost:8080/"
        },
        "id": "_dbiynDCUJy0",
        "outputId": "e5c01340-ff92-4501-f7eb-7b60adee34d7"
      },
      "source": [
        "model.fit(x=X_train, y=y_train, batch_size=32, epochs=100)"
      ],
      "execution_count": 107,
      "outputs": [
        {
          "output_type": "stream",
          "text": [
            "Epoch 1/100\n",
            "38/38 [==============================] - 12s 136ms/step - loss: 0.1039\n",
            "Epoch 2/100\n",
            "38/38 [==============================] - 5s 144ms/step - loss: 0.0068\n",
            "Epoch 3/100\n",
            "38/38 [==============================] - 6s 145ms/step - loss: 0.0066\n",
            "Epoch 4/100\n",
            "38/38 [==============================] - 5s 143ms/step - loss: 0.0064\n",
            "Epoch 5/100\n",
            "38/38 [==============================] - 6s 149ms/step - loss: 0.0062\n",
            "Epoch 6/100\n",
            "38/38 [==============================] - 5s 141ms/step - loss: 0.0054\n",
            "Epoch 7/100\n",
            "38/38 [==============================] - 5s 141ms/step - loss: 0.0060\n",
            "Epoch 8/100\n",
            "38/38 [==============================] - 5s 140ms/step - loss: 0.0049\n",
            "Epoch 9/100\n",
            "38/38 [==============================] - 5s 142ms/step - loss: 0.0067\n",
            "Epoch 10/100\n",
            "38/38 [==============================] - 5s 145ms/step - loss: 0.0054\n",
            "Epoch 11/100\n",
            "38/38 [==============================] - 5s 143ms/step - loss: 0.0051\n",
            "Epoch 12/100\n",
            "38/38 [==============================] - 5s 144ms/step - loss: 0.0049\n",
            "Epoch 13/100\n",
            "38/38 [==============================] - 6s 145ms/step - loss: 0.0046\n",
            "Epoch 14/100\n",
            "38/38 [==============================] - 6s 145ms/step - loss: 0.0044\n",
            "Epoch 15/100\n",
            "38/38 [==============================] - 6s 145ms/step - loss: 0.0044\n",
            "Epoch 16/100\n",
            "38/38 [==============================] - 5s 144ms/step - loss: 0.0040\n",
            "Epoch 17/100\n",
            "38/38 [==============================] - 6s 144ms/step - loss: 0.0041\n",
            "Epoch 18/100\n",
            "38/38 [==============================] - 5s 144ms/step - loss: 0.0042\n",
            "Epoch 19/100\n",
            "38/38 [==============================] - 5s 143ms/step - loss: 0.0034\n",
            "Epoch 20/100\n",
            "38/38 [==============================] - 5s 144ms/step - loss: 0.0039\n",
            "Epoch 21/100\n",
            "38/38 [==============================] - 6s 146ms/step - loss: 0.0043\n",
            "Epoch 22/100\n",
            "38/38 [==============================] - 6s 145ms/step - loss: 0.0050\n",
            "Epoch 23/100\n",
            "38/38 [==============================] - 6s 146ms/step - loss: 0.0038\n",
            "Epoch 24/100\n",
            "38/38 [==============================] - 6s 146ms/step - loss: 0.0041\n",
            "Epoch 25/100\n",
            "38/38 [==============================] - 6s 145ms/step - loss: 0.0036\n",
            "Epoch 26/100\n",
            "38/38 [==============================] - 5s 143ms/step - loss: 0.0035\n",
            "Epoch 27/100\n",
            "38/38 [==============================] - 5s 142ms/step - loss: 0.0032\n",
            "Epoch 28/100\n",
            "38/38 [==============================] - 5s 142ms/step - loss: 0.0033\n",
            "Epoch 29/100\n",
            "38/38 [==============================] - 5s 143ms/step - loss: 0.0028\n",
            "Epoch 30/100\n",
            "38/38 [==============================] - 5s 142ms/step - loss: 0.0031\n",
            "Epoch 31/100\n",
            "38/38 [==============================] - 6s 147ms/step - loss: 0.0029\n",
            "Epoch 32/100\n",
            "38/38 [==============================] - 5s 142ms/step - loss: 0.0033\n",
            "Epoch 33/100\n",
            "38/38 [==============================] - 6s 147ms/step - loss: 0.0027\n",
            "Epoch 34/100\n",
            "38/38 [==============================] - 5s 143ms/step - loss: 0.0035\n",
            "Epoch 35/100\n",
            "38/38 [==============================] - 5s 142ms/step - loss: 0.0039\n",
            "Epoch 36/100\n",
            "38/38 [==============================] - 5s 143ms/step - loss: 0.0030\n",
            "Epoch 37/100\n",
            "38/38 [==============================] - 5s 143ms/step - loss: 0.0032\n",
            "Epoch 38/100\n",
            "38/38 [==============================] - 5s 142ms/step - loss: 0.0030\n",
            "Epoch 39/100\n",
            "38/38 [==============================] - 5s 142ms/step - loss: 0.0033\n",
            "Epoch 40/100\n",
            "38/38 [==============================] - 5s 142ms/step - loss: 0.0034\n",
            "Epoch 41/100\n",
            "38/38 [==============================] - 6s 144ms/step - loss: 0.0030\n",
            "Epoch 42/100\n",
            "38/38 [==============================] - 6s 146ms/step - loss: 0.0030\n",
            "Epoch 43/100\n",
            "38/38 [==============================] - 6s 147ms/step - loss: 0.0025\n",
            "Epoch 44/100\n",
            "38/38 [==============================] - 6s 145ms/step - loss: 0.0031\n",
            "Epoch 45/100\n",
            "38/38 [==============================] - 6s 145ms/step - loss: 0.0031\n",
            "Epoch 46/100\n",
            "38/38 [==============================] - 5s 144ms/step - loss: 0.0026\n",
            "Epoch 47/100\n",
            "38/38 [==============================] - 5s 143ms/step - loss: 0.0029\n",
            "Epoch 48/100\n",
            "38/38 [==============================] - 5s 142ms/step - loss: 0.0027\n",
            "Epoch 49/100\n",
            "38/38 [==============================] - 5s 144ms/step - loss: 0.0034\n",
            "Epoch 50/100\n",
            "38/38 [==============================] - 5s 142ms/step - loss: 0.0033\n",
            "Epoch 51/100\n",
            "38/38 [==============================] - 5s 144ms/step - loss: 0.0025\n",
            "Epoch 52/100\n",
            "38/38 [==============================] - 6s 145ms/step - loss: 0.0031\n",
            "Epoch 53/100\n",
            "38/38 [==============================] - 6s 146ms/step - loss: 0.0023\n",
            "Epoch 54/100\n",
            "38/38 [==============================] - 5s 144ms/step - loss: 0.0030\n",
            "Epoch 55/100\n",
            "38/38 [==============================] - 5s 144ms/step - loss: 0.0027\n",
            "Epoch 56/100\n",
            "38/38 [==============================] - 5s 144ms/step - loss: 0.0024\n",
            "Epoch 57/100\n",
            "38/38 [==============================] - 6s 146ms/step - loss: 0.0024\n",
            "Epoch 58/100\n",
            "38/38 [==============================] - 5s 143ms/step - loss: 0.0022\n",
            "Epoch 59/100\n",
            "38/38 [==============================] - 5s 143ms/step - loss: 0.0023\n",
            "Epoch 60/100\n",
            "38/38 [==============================] - 6s 145ms/step - loss: 0.0025\n",
            "Epoch 61/100\n",
            "38/38 [==============================] - 5s 144ms/step - loss: 0.0027\n",
            "Epoch 62/100\n",
            "38/38 [==============================] - 5s 143ms/step - loss: 0.0025\n",
            "Epoch 63/100\n",
            "38/38 [==============================] - 5s 143ms/step - loss: 0.0025\n",
            "Epoch 64/100\n",
            "38/38 [==============================] - 6s 146ms/step - loss: 0.0026\n",
            "Epoch 65/100\n",
            "38/38 [==============================] - 5s 143ms/step - loss: 0.0025\n",
            "Epoch 66/100\n",
            "38/38 [==============================] - 5s 144ms/step - loss: 0.0023\n",
            "Epoch 67/100\n",
            "38/38 [==============================] - 5s 142ms/step - loss: 0.0028\n",
            "Epoch 68/100\n",
            "38/38 [==============================] - 5s 144ms/step - loss: 0.0022\n",
            "Epoch 69/100\n",
            "38/38 [==============================] - 5s 142ms/step - loss: 0.0021\n",
            "Epoch 70/100\n",
            "38/38 [==============================] - 5s 144ms/step - loss: 0.0020\n",
            "Epoch 71/100\n",
            "38/38 [==============================] - 5s 144ms/step - loss: 0.0025\n",
            "Epoch 72/100\n",
            "38/38 [==============================] - 5s 143ms/step - loss: 0.0018\n",
            "Epoch 73/100\n",
            "38/38 [==============================] - 6s 145ms/step - loss: 0.0022\n",
            "Epoch 74/100\n",
            "38/38 [==============================] - 6s 146ms/step - loss: 0.0022\n",
            "Epoch 75/100\n",
            "38/38 [==============================] - 5s 144ms/step - loss: 0.0019\n",
            "Epoch 76/100\n",
            "38/38 [==============================] - 5s 143ms/step - loss: 0.0019\n",
            "Epoch 77/100\n",
            "38/38 [==============================] - 5s 142ms/step - loss: 0.0018\n",
            "Epoch 78/100\n",
            "38/38 [==============================] - 5s 141ms/step - loss: 0.0022\n",
            "Epoch 79/100\n",
            "38/38 [==============================] - 5s 144ms/step - loss: 0.0020\n",
            "Epoch 80/100\n",
            "38/38 [==============================] - 6s 146ms/step - loss: 0.0018\n",
            "Epoch 81/100\n",
            "38/38 [==============================] - 6s 146ms/step - loss: 0.0019\n",
            "Epoch 82/100\n",
            "38/38 [==============================] - 5s 144ms/step - loss: 0.0020\n",
            "Epoch 83/100\n",
            "38/38 [==============================] - 6s 146ms/step - loss: 0.0018\n",
            "Epoch 84/100\n",
            "38/38 [==============================] - 5s 142ms/step - loss: 0.0020\n",
            "Epoch 85/100\n",
            "38/38 [==============================] - 5s 143ms/step - loss: 0.0018\n",
            "Epoch 86/100\n",
            "38/38 [==============================] - 5s 144ms/step - loss: 0.0018\n",
            "Epoch 87/100\n",
            "38/38 [==============================] - 5s 142ms/step - loss: 0.0016\n",
            "Epoch 88/100\n",
            "38/38 [==============================] - 5s 144ms/step - loss: 0.0020\n",
            "Epoch 89/100\n",
            "38/38 [==============================] - 5s 143ms/step - loss: 0.0018\n",
            "Epoch 90/100\n",
            "38/38 [==============================] - 5s 144ms/step - loss: 0.0021\n",
            "Epoch 91/100\n",
            "38/38 [==============================] - 5s 143ms/step - loss: 0.0018\n",
            "Epoch 92/100\n",
            "38/38 [==============================] - 5s 143ms/step - loss: 0.0018\n",
            "Epoch 93/100\n",
            "38/38 [==============================] - 6s 147ms/step - loss: 0.0018\n",
            "Epoch 94/100\n",
            "38/38 [==============================] - 5s 144ms/step - loss: 0.0020\n",
            "Epoch 95/100\n",
            "38/38 [==============================] - 5s 143ms/step - loss: 0.0017\n",
            "Epoch 96/100\n",
            "38/38 [==============================] - 5s 144ms/step - loss: 0.0018\n",
            "Epoch 97/100\n",
            "38/38 [==============================] - 6s 149ms/step - loss: 0.0016\n",
            "Epoch 98/100\n",
            "38/38 [==============================] - 6s 149ms/step - loss: 0.0017\n",
            "Epoch 99/100\n",
            "38/38 [==============================] - 6s 150ms/step - loss: 0.0015\n",
            "Epoch 100/100\n",
            "38/38 [==============================] - 6s 148ms/step - loss: 0.0016\n"
          ],
          "name": "stdout"
        },
        {
          "output_type": "execute_result",
          "data": {
            "text/plain": [
              "<tensorflow.python.keras.callbacks.History at 0x7f1fff871e80>"
            ]
          },
          "metadata": {
            "tags": []
          },
          "execution_count": 107
        }
      ]
    },
    {
      "cell_type": "code",
      "metadata": {
        "id": "wBmFj8nUwcXm"
      },
      "source": [
        "points_for_predict = train[len(train) - 60:len(train)]"
      ],
      "execution_count": 108,
      "outputs": []
    },
    {
      "cell_type": "code",
      "metadata": {
        "id": "403dGNzWBGvR"
      },
      "source": [
        "for i in range(len(points_for_predict) - 60, len(points_for_predict)):\n",
        "  predicted = model.predict(x=points_for_predict[i : len(points_for_predict)].reshape(1, 60, 1))\n",
        "  points_for_predict = np.append(points_for_predict, predicted)"
      ],
      "execution_count": 109,
      "outputs": []
    },
    {
      "cell_type": "code",
      "metadata": {
        "id": "xJe6Inr9N24Q"
      },
      "source": [
        "points_for_predict = scaler.inverse_transform(points_for_predict.reshape(-1, 1))"
      ],
      "execution_count": 110,
      "outputs": []
    },
    {
      "cell_type": "code",
      "metadata": {
        "id": "YBw82lzjOJlw"
      },
      "source": [
        "X_test = test.loc[:, 'Date']\n",
        "y_test = test.loc[:, 'Open']"
      ],
      "execution_count": 111,
      "outputs": []
    },
    {
      "cell_type": "code",
      "metadata": {
        "colab": {
          "base_uri": "https://localhost:8080/",
          "height": 267
        },
        "id": "dM4SnXZROVb6",
        "outputId": "6ce64daf-6de6-46ee-91b5-d7db3dc79af9"
      },
      "source": [
        "plt.plot(X_test, y_test, 'r')\n",
        "plt.plot(points_for_predict[len(points_for_predict) - 60:], 'g')\n",
        "plt.show()"
      ],
      "execution_count": 112,
      "outputs": [
        {
          "output_type": "display_data",
          "data": {
            "image/png": "[encoded data removed]",
            "text/plain": [
              "<Figure size 432x288 with 1 Axes>"
            ]
          },
          "metadata": {
            "tags": [],
            "needs_background": "light"
          }
        }
      ]
    },
    {
      "cell_type": "code",
      "metadata": {
        "id": "09neZHWgPFud"
      },
      "source": [
        ""
      ],
      "execution_count": 112,
      "outputs": []
    }
  ]
}